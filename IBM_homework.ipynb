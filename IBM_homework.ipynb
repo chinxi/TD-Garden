{
 "cells": [
  {
   "cell_type": "markdown",
   "id": "e295a47b-956a-4bcb-a3a6-65c2d5ef6703",
   "metadata": {},
   "source": [
    "# My Jupyter Notebook on IBM Watson Studio"
   ]
  },
  {
   "cell_type": "markdown",
   "id": "b0f9bdf3-e5ca-4e4b-b543-0eaee1bf2467",
   "metadata": {},
   "source": [
    "**ChinXi**  \n",
    "I am a Communication Engineer now, and I wanna be a Data Scientist in the future."
   ]
  },
  {
   "cell_type": "markdown",
   "id": "c955eba6-63af-4ee0-a20a-312fc910257e",
   "metadata": {},
   "source": [
    "*I think Data Science is practical program to find the insights behind the data.*"
   ]
  },
  {
   "cell_type": "markdown",
   "id": "ead8639a-bbc4-482c-ba47-3b4f4a4e4bdb",
   "metadata": {
    "tags": []
   },
   "source": [
    "### The code will print 'I love you' on the screen"
   ]
  },
  {
   "cell_type": "code",
   "execution_count": 2,
   "id": "73457e7d-56c6-4c3d-b345-1ad95bbbc919",
   "metadata": {
    "scrolled": true,
    "tags": []
   },
   "outputs": [
    {
     "name": "stdout",
     "output_type": "stream",
     "text": [
      "I love you\n"
     ]
    }
   ],
   "source": [
    "print('I love you')"
   ]
  },
  {
   "cell_type": "markdown",
   "id": "686af167-5413-4e9d-a492-625741238737",
   "metadata": {},
   "source": [
    "[Here's a link of a nice song, Hope you enjoy!](https://music.163.com/song?id=1878769132&userid=88501634)  \n",
    "![Have a nice day!](https://pic.rmb.bdstatic.com/0a8df3bf3610d8ca3be68b5177dde2f4.jpeg)  \n",
    "\n",
    "+ You should\n",
    "    - stand up\n",
    "    - and have a relax\n",
    "        * keep health\n",
    "        \n",
    "|Term|Number|Price|\n",
    "|-|-------:|:------:|\n",
    "|Apple|10|\\$1|\n",
    "|Computer|1|\\$1000|"
   ]
  },
  {
   "cell_type": "markdown",
   "id": "870f31fb-12ff-4030-9110-47d6dd06eb2d",
   "metadata": {},
   "source": []
  }
 ],
 "metadata": {
  "kernelspec": {
   "display_name": "Python",
   "language": "python",
   "name": "conda-env-python-py"
  },
  "language_info": {
   "codemirror_mode": {
    "name": "ipython",
    "version": 3
   },
   "file_extension": ".py",
   "mimetype": "text/x-python",
   "name": "python",
   "nbconvert_exporter": "python",
   "pygments_lexer": "ipython3",
   "version": "3.7.12"
  }
 },
 "nbformat": 4,
 "nbformat_minor": 5
}
